{
 "cells": [
  {
   "cell_type": "code",
   "execution_count": 92,
   "metadata": {
    "collapsed": true
   },
   "outputs": [],
   "source": [
    "#imports\n",
    "import bs4 as bs\n",
    "import urllib.request as req\n",
    "import re\n",
    "import pandas as pd"
   ]
  },
  {
   "cell_type": "code",
   "execution_count": 93,
   "metadata": {
    "collapsed": false
   },
   "outputs": [],
   "source": [
    "#requesting url for search query-Iphone in Amazon\n",
    "src = req.urlopen('https://www.amazon.in/s?k=iphone&ref=nb_sb_noss').read()\n",
    "soup = bs.BeautifulSoup(src, 'lxml')"
   ]
  },
  {
   "cell_type": "code",
   "execution_count": 94,
   "metadata": {
    "collapsed": true
   },
   "outputs": [],
   "source": [
    "#finding individual links for all the products in the page\n",
    "containers = soup.find_all('a', {'class': 'a-link-normal s-no-outline'})"
   ]
  },
  {
   "cell_type": "code",
   "execution_count": 95,
   "metadata": {
    "collapsed": false
   },
   "outputs": [],
   "source": [
    "links = []\n",
    "for x in containers:\n",
    "    links.append('https://www.amazon.in' + str(x).split('\"')[3])"
   ]
  },
  {
   "cell_type": "code",
   "execution_count": 96,
   "metadata": {
    "collapsed": false
   },
   "outputs": [
    {
     "data": {
      "text/plain": [
       "['https://www.amazon.in/Apple-iPhone-11-64GB-Black/dp/B07XVMDRZY?dchild=1',\n",
       " 'https://www.amazon.in/Apple-iPhone-Black-32GB-Storage/dp/B01LZKSVRB?dchild=1',\n",
       " 'https://www.amazon.in/Apple-iPhone-Plus-Space-Grey/dp/B0714DP3BG?dchild=1',\n",
       " 'https://www.amazon.in/Apple-iPhone-11-128GB-Black/dp/B07XVLW7YK?dchild=1',\n",
       " 'https://www.amazon.in/Apple-iPhone-Plus-Black-32GB/dp/B01LZKSTJB?dchild=1',\n",
       " 'https://www.amazon.in/Apple-iPhone-XR-64GB-RED/dp/B07JWVNKRL?dchild=1',\n",
       " 'https://www.amazon.in/Apple-iPhone-11-128GB-White/dp/B07XVLMXYH?dchild=1',\n",
       " 'https://www.amazon.in/Apple-iPhone-11-64GB-Purple/dp/B07XVL4P83?dchild=1',\n",
       " 'https://www.amazon.in/Test-Exclusive-748/dp/B07DJLVJ5M?dchild=1',\n",
       " 'https://www.amazon.in/Apple-iPhone-7-Silver-32GB/dp/B01LZWFVHL?dchild=1',\n",
       " 'https://www.amazon.in/Apple-iPhone-Gold-32GB-Storage/dp/B01LZKLPVQ?dchild=1',\n",
       " 'https://www.amazon.in/Apple-iPhone-XR-128GB-RED/dp/B07JHFK8R3?dchild=1',\n",
       " 'https://www.amazon.in/Apple-iPhone-XR-64GB-Black/dp/B07JWV47JW?dchild=1',\n",
       " 'https://www.amazon.in/Apple-iPhone-Rose-Gold-32GB/dp/B01LZWIOS4?dchild=1',\n",
       " 'https://www.amazon.in/Apple-iPhone-Pro-Max-64GB/dp/B07XVLMZHH?dchild=1',\n",
       " 'https://www.amazon.in/Dazzling-Storage-Additional-Exchange-Offers/dp/B07SDPTP6Q?dchild=1']"
      ]
     },
     "execution_count": 96,
     "metadata": {},
     "output_type": "execute_result"
    }
   ],
   "source": [
    "links"
   ]
  },
  {
   "cell_type": "code",
   "execution_count": 97,
   "metadata": {
    "collapsed": true
   },
   "outputs": [],
   "source": [
    "Name = []\n",
    "Ratings = []\n",
    "Price = []\n",
    "specs = []\n",
    "Image = []"
   ]
  },
  {
   "cell_type": "code",
   "execution_count": 98,
   "metadata": {
    "collapsed": false
   },
   "outputs": [],
   "source": [
    "for x in links:\n",
    "    #requesting urls for individual products\n",
    "    srcc = req.urlopen(x).read()\n",
    "    soupp = bs.BeautifulSoup(srcc, 'lxml')\n",
    "    #scraping product specifications\n",
    "    prod_specs = []\n",
    "    lsts = soupp.find_all('span', {'class': 'a-list-item'})\n",
    "    for li in lsts[23:36]:\n",
    "        prod_specs.append(re.sub('\\n', '', li.text.strip()))\n",
    "    specs.append(prod_specs)\n",
    "    #scraping product ratings\n",
    "    rate = soupp.find('span', {'class': 'a-icon-alt'})\n",
    "    Ratings.append(rate.text)\n",
    "    #scraping product name\n",
    "    prod_name = soupp.find('h1', {'class': 'a-size-large a-spacing-none'})\n",
    "    Name.append(re.sub('\\xa0', ' ', prod_name.text.strip()))\n",
    "    #scraping product price\n",
    "    prod_price = soupp.find('span', {'class': 'a-size-medium a-color-price priceBlockBuyingPriceString'})\n",
    "    Price.append(re.sub('\\xa0','',prod_price.text))"
   ]
  },
  {
   "cell_type": "code",
   "execution_count": 103,
   "metadata": {
    "collapsed": true
   },
   "outputs": [],
   "source": [
    "#scraping product image thumbnail\n",
    "img = soup.find_all('img', {'class': 's-image'})\n",
    "for x in img:\n",
    "    Image.append(re.sub('src=', '', str(x).split(' ')[15]))"
   ]
  },
  {
   "cell_type": "code",
   "execution_count": 109,
   "metadata": {
    "collapsed": false
   },
   "outputs": [],
   "source": [
    "#converting the scraped lists into a dataframe\n",
    "df = pd.DataFrame(list(zip(Name, Image, Ratings, Price, specs)),\n",
    "                  columns = ['Name', 'Image', 'Ratings', 'Price', 'Specs'])"
   ]
  },
  {
   "cell_type": "code",
   "execution_count": 112,
   "metadata": {
    "collapsed": false
   },
   "outputs": [
    {
     "data": {
      "text/html": [
       "<div>\n",
       "<style scoped>\n",
       "    .dataframe tbody tr th:only-of-type {\n",
       "        vertical-align: middle;\n",
       "    }\n",
       "\n",
       "    .dataframe tbody tr th {\n",
       "        vertical-align: top;\n",
       "    }\n",
       "\n",
       "    .dataframe thead th {\n",
       "        text-align: right;\n",
       "    }\n",
       "</style>\n",
       "<table border=\"1\" class=\"dataframe\">\n",
       "  <thead>\n",
       "    <tr style=\"text-align: right;\">\n",
       "      <th></th>\n",
       "      <th>Name</th>\n",
       "      <th>Image</th>\n",
       "      <th>Ratings</th>\n",
       "      <th>Price</th>\n",
       "      <th>Specs</th>\n",
       "    </tr>\n",
       "  </thead>\n",
       "  <tbody>\n",
       "    <tr>\n",
       "      <th>0</th>\n",
       "      <td>Apple iPhone 11 (64GB) - Black</td>\n",
       "      <td>\"https://m.media-amazon.com/images/I/51kGDXeFZ...</td>\n",
       "      <td>4.5 out of 5 stars</td>\n",
       "      <td>₹66,300.00</td>\n",
       "      <td>[6.1-inch (15.5 cm) Liquid Retina HD LCD displ...</td>\n",
       "    </tr>\n",
       "    <tr>\n",
       "      <th>1</th>\n",
       "      <td>Apple iPhone 7 (32GB) - Black</td>\n",
       "      <td>https://m.media-amazon.com/images/I/41D9NDiSzj...</td>\n",
       "      <td>4.2 out of 5 stars</td>\n",
       "      <td>₹29,799.00</td>\n",
       "      <td>[Exchange Offer:Enter your pincode to view Exc...</td>\n",
       "    </tr>\n",
       "    <tr>\n",
       "      <th>2</th>\n",
       "      <td>Apple iPhone 8 Plus (64GB) - Space Grey</td>\n",
       "      <td>srcset=\"https://m.media-amazon.com/images/I/51...</td>\n",
       "      <td>4.2 out of 5 stars</td>\n",
       "      <td>₹41,999.00</td>\n",
       "      <td>[Cashback:Get daily rewards up to ₹100 on shop...</td>\n",
       "    </tr>\n",
       "    <tr>\n",
       "      <th>3</th>\n",
       "      <td>Apple iPhone 11 (128GB) - Black</td>\n",
       "      <td>https://m.media-amazon.com/images/I/51kGDXeFZK...</td>\n",
       "      <td>4.5 out of 5 stars</td>\n",
       "      <td>₹72,600.00</td>\n",
       "      <td>[6.1-inch (15.5 cm) Liquid Retina HD LCD displ...</td>\n",
       "    </tr>\n",
       "    <tr>\n",
       "      <th>4</th>\n",
       "      <td>Apple iPhone 7 Plus (32GB) - Black</td>\n",
       "      <td>https://m.media-amazon.com/images/I/41DvAKt7Ca...</td>\n",
       "      <td>4.3 out of 5 stars</td>\n",
       "      <td>₹36,999.00</td>\n",
       "      <td>[1 year manufacturer warranty for device and i...</td>\n",
       "    </tr>\n",
       "    <tr>\n",
       "      <th>5</th>\n",
       "      <td>Apple iPhone XR (64GB) (Product) RED</td>\n",
       "      <td>https://m.media-amazon.com/images/I/51YXG1bDM5...</td>\n",
       "      <td>4.5 out of 5 stars</td>\n",
       "      <td>₹52,500.00</td>\n",
       "      <td>[7MP TrueDepth front camera system with Portra...</td>\n",
       "    </tr>\n",
       "    <tr>\n",
       "      <th>6</th>\n",
       "      <td>Apple iPhone 11 (128GB) - White</td>\n",
       "      <td>https://m.media-amazon.com/images/I/51o5RmQtro...</td>\n",
       "      <td>4.5 out of 5 stars</td>\n",
       "      <td>₹72,600.00</td>\n",
       "      <td>[6.1-inch (15.5 cm) Liquid Retina HD LCD displ...</td>\n",
       "    </tr>\n",
       "    <tr>\n",
       "      <th>7</th>\n",
       "      <td>Apple iPhone 11 (64GB) - Purple</td>\n",
       "      <td>https://m.media-amazon.com/images/I/51oXVi+Zhh...</td>\n",
       "      <td>4.5 out of 5 stars</td>\n",
       "      <td>₹66,300.00</td>\n",
       "      <td>[6.1-inch (15.5 cm) Liquid Retina HD LCD displ...</td>\n",
       "    </tr>\n",
       "    <tr>\n",
       "      <th>8</th>\n",
       "      <td>OnePlus 7T (Glacier Blue, 8GB RAM, Fluid AMOLE...</td>\n",
       "      <td>data-image-index=\"8\"</td>\n",
       "      <td>4.5 out of 5 stars</td>\n",
       "      <td>₹37,999.00</td>\n",
       "      <td>[Plan activation to be done as per the name me...</td>\n",
       "    </tr>\n",
       "    <tr>\n",
       "      <th>9</th>\n",
       "      <td>Apple iPhone 7 (32GB) - Silver</td>\n",
       "      <td>1.5x,</td>\n",
       "      <td>4.1 out of 5 stars</td>\n",
       "      <td>₹29,799.00</td>\n",
       "      <td>[4.7-inch Retina HD LCD display, Water and dus...</td>\n",
       "    </tr>\n",
       "    <tr>\n",
       "      <th>10</th>\n",
       "      <td>Apple iPhone 7 (32GB) - Gold</td>\n",
       "      <td>https://m.media-amazon.com/images/I/419smKsnVy...</td>\n",
       "      <td>4.1 out of 5 stars</td>\n",
       "      <td>₹31,500.00</td>\n",
       "      <td>[4.7-inch Retina HD LCD display, Water and dus...</td>\n",
       "    </tr>\n",
       "    <tr>\n",
       "      <th>11</th>\n",
       "      <td>Apple iPhone XR (128GB) (Product) RED</td>\n",
       "      <td>https://m.media-amazon.com/images/I/51YXG1bDM5...</td>\n",
       "      <td>4.5 out of 5 stars</td>\n",
       "      <td>₹57,800.00</td>\n",
       "      <td>[7MP TrueDepth front camera system with Portra...</td>\n",
       "    </tr>\n",
       "    <tr>\n",
       "      <th>12</th>\n",
       "      <td>Apple iPhone XR (64GB) - Black</td>\n",
       "      <td>https://m.media-amazon.com/images/I/519KIlHA2w...</td>\n",
       "      <td>4.5 out of 5 stars</td>\n",
       "      <td>₹52,500.00</td>\n",
       "      <td>[7MP TrueDepth front camera system with Portra...</td>\n",
       "    </tr>\n",
       "    <tr>\n",
       "      <th>13</th>\n",
       "      <td>Apple iPhone 7 (32GB) - Rose Gold</td>\n",
       "      <td>https://m.media-amazon.com/images/I/41G7hrvCSr...</td>\n",
       "      <td>4.2 out of 5 stars</td>\n",
       "      <td>₹31,500.00</td>\n",
       "      <td>[Cashback:Get daily rewards up to ₹100 on shop...</td>\n",
       "    </tr>\n",
       "    <tr>\n",
       "      <th>14</th>\n",
       "      <td>Apple iPhone 11 Pro Max (64GB) - Midnight Green</td>\n",
       "      <td>\"https://m.media-amazon.com/images/I/61ers6Ozv...</td>\n",
       "      <td>4.5 out of 5 stars</td>\n",
       "      <td>₹1,17,100.00</td>\n",
       "      <td>[12MP TrueDepth front camera with Portrait Mod...</td>\n",
       "    </tr>\n",
       "    <tr>\n",
       "      <th>15</th>\n",
       "      <td>OPPO A5 2020 (Dazzling White, 3GB RAM, 64GB St...</td>\n",
       "      <td>Offers\"</td>\n",
       "      <td>4.1 out of 5 stars</td>\n",
       "      <td>₹10,990.00</td>\n",
       "      <td>[, , , , , , , , , , , , ]</td>\n",
       "    </tr>\n",
       "  </tbody>\n",
       "</table>\n",
       "</div>"
      ],
      "text/plain": [
       "                                                 Name  \\\n",
       "0                      Apple iPhone 11 (64GB) - Black   \n",
       "1                       Apple iPhone 7 (32GB) - Black   \n",
       "2             Apple iPhone 8 Plus (64GB) - Space Grey   \n",
       "3                     Apple iPhone 11 (128GB) - Black   \n",
       "4                  Apple iPhone 7 Plus (32GB) - Black   \n",
       "5                Apple iPhone XR (64GB) (Product) RED   \n",
       "6                     Apple iPhone 11 (128GB) - White   \n",
       "7                     Apple iPhone 11 (64GB) - Purple   \n",
       "8   OnePlus 7T (Glacier Blue, 8GB RAM, Fluid AMOLE...   \n",
       "9                      Apple iPhone 7 (32GB) - Silver   \n",
       "10                       Apple iPhone 7 (32GB) - Gold   \n",
       "11              Apple iPhone XR (128GB) (Product) RED   \n",
       "12                     Apple iPhone XR (64GB) - Black   \n",
       "13                  Apple iPhone 7 (32GB) - Rose Gold   \n",
       "14    Apple iPhone 11 Pro Max (64GB) - Midnight Green   \n",
       "15  OPPO A5 2020 (Dazzling White, 3GB RAM, 64GB St...   \n",
       "\n",
       "                                                Image             Ratings  \\\n",
       "0   \"https://m.media-amazon.com/images/I/51kGDXeFZ...  4.5 out of 5 stars   \n",
       "1   https://m.media-amazon.com/images/I/41D9NDiSzj...  4.2 out of 5 stars   \n",
       "2   srcset=\"https://m.media-amazon.com/images/I/51...  4.2 out of 5 stars   \n",
       "3   https://m.media-amazon.com/images/I/51kGDXeFZK...  4.5 out of 5 stars   \n",
       "4   https://m.media-amazon.com/images/I/41DvAKt7Ca...  4.3 out of 5 stars   \n",
       "5   https://m.media-amazon.com/images/I/51YXG1bDM5...  4.5 out of 5 stars   \n",
       "6   https://m.media-amazon.com/images/I/51o5RmQtro...  4.5 out of 5 stars   \n",
       "7   https://m.media-amazon.com/images/I/51oXVi+Zhh...  4.5 out of 5 stars   \n",
       "8                                data-image-index=\"8\"  4.5 out of 5 stars   \n",
       "9                                               1.5x,  4.1 out of 5 stars   \n",
       "10  https://m.media-amazon.com/images/I/419smKsnVy...  4.1 out of 5 stars   \n",
       "11  https://m.media-amazon.com/images/I/51YXG1bDM5...  4.5 out of 5 stars   \n",
       "12  https://m.media-amazon.com/images/I/519KIlHA2w...  4.5 out of 5 stars   \n",
       "13  https://m.media-amazon.com/images/I/41G7hrvCSr...  4.2 out of 5 stars   \n",
       "14  \"https://m.media-amazon.com/images/I/61ers6Ozv...  4.5 out of 5 stars   \n",
       "15                                            Offers\"  4.1 out of 5 stars   \n",
       "\n",
       "           Price                                              Specs  \n",
       "0     ₹66,300.00  [6.1-inch (15.5 cm) Liquid Retina HD LCD displ...  \n",
       "1     ₹29,799.00  [Exchange Offer:Enter your pincode to view Exc...  \n",
       "2     ₹41,999.00  [Cashback:Get daily rewards up to ₹100 on shop...  \n",
       "3     ₹72,600.00  [6.1-inch (15.5 cm) Liquid Retina HD LCD displ...  \n",
       "4     ₹36,999.00  [1 year manufacturer warranty for device and i...  \n",
       "5     ₹52,500.00  [7MP TrueDepth front camera system with Portra...  \n",
       "6     ₹72,600.00  [6.1-inch (15.5 cm) Liquid Retina HD LCD displ...  \n",
       "7     ₹66,300.00  [6.1-inch (15.5 cm) Liquid Retina HD LCD displ...  \n",
       "8     ₹37,999.00  [Plan activation to be done as per the name me...  \n",
       "9     ₹29,799.00  [4.7-inch Retina HD LCD display, Water and dus...  \n",
       "10    ₹31,500.00  [4.7-inch Retina HD LCD display, Water and dus...  \n",
       "11    ₹57,800.00  [7MP TrueDepth front camera system with Portra...  \n",
       "12    ₹52,500.00  [7MP TrueDepth front camera system with Portra...  \n",
       "13    ₹31,500.00  [Cashback:Get daily rewards up to ₹100 on shop...  \n",
       "14  ₹1,17,100.00  [12MP TrueDepth front camera with Portrait Mod...  \n",
       "15    ₹10,990.00                         [, , , , , , , , , , , , ]  "
      ]
     },
     "execution_count": 112,
     "metadata": {},
     "output_type": "execute_result"
    }
   ],
   "source": [
    "df"
   ]
  },
  {
   "cell_type": "code",
   "execution_count": 111,
   "metadata": {
    "collapsed": false
   },
   "outputs": [],
   "source": [
    "#converting the dataframe into a JSON file\n",
    "df.to_json('AmazonDataset-Iphone.json')"
   ]
  }
 ],
 "metadata": {
  "kernelspec": {
   "display_name": "Python 3",
   "language": "python",
   "name": "python3"
  },
  "language_info": {
   "codemirror_mode": {
    "name": "ipython",
    "version": 3
   },
   "file_extension": ".py",
   "mimetype": "text/x-python",
   "name": "python",
   "nbconvert_exporter": "python",
   "pygments_lexer": "ipython3",
   "version": "3.5.6"
  }
 },
 "nbformat": 4,
 "nbformat_minor": 0
}
